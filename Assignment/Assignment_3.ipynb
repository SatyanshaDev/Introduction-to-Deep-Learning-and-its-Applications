{
  "nbformat": 4,
  "nbformat_minor": 0,
  "metadata": {
    "colab": {
      "name": "Untitled0.ipynb",
      "provenance": [],
      "collapsed_sections": []
    },
    "kernelspec": {
      "name": "python3",
      "display_name": "Python 3"
    },
    "language_info": {
      "name": "python"
    }
  },
  "cells": [
    {
      "cell_type": "code",
      "execution_count": 2,
      "metadata": {
        "id": "MFpikTNo_9PF"
      },
      "outputs": [],
      "source": [
        "import tensorflow as tf\n",
        "from tensorflow.keras.models import Sequential\n",
        "from tensorflow.keras.layers import Dense, Dropout, LSTM"
      ]
    },
    {
      "cell_type": "code",
      "source": [
        "mnist=tf.keras.datasets.mnist  #dataset load\n",
        "(x_train,y_train),(x_test,y_test)=mnist.load_data()  \n",
        "x_train=x_train/255.0\n",
        "x_test=x_test/255.0"
      ],
      "metadata": {
        "id": "GhW6G6RqDBul"
      },
      "execution_count": 3,
      "outputs": []
    },
    {
      "cell_type": "code",
      "source": [
        "print(x_train.shape)\n",
        "print(x_train[0].shape)\n",
        "pred = Sequential()"
      ],
      "metadata": {
        "colab": {
          "base_uri": "https://localhost:8080/"
        },
        "id": "_lteg0E5DG49",
        "outputId": "2bf96e3a-15f4-469e-c921-739d1efc1525"
      },
      "execution_count": 4,
      "outputs": [
        {
          "output_type": "stream",
          "name": "stdout",
          "text": [
            "(60000, 28, 28)\n",
            "(28, 28)\n"
          ]
        }
      ]
    },
    {
      "cell_type": "code",
      "source": [
        "pred.add(LSTM(128, input_shape=(x_train.shape[1:]), return_sequences=True))\n",
        "pred.add(Dropout(0.2))\n",
        "pred.add(LSTM(128, activation='relu'))\n",
        "pred.add(Dropout(0.1))\n",
        "pred.add(LSTM(64, activation='relu'))\n",
        "pred.add(Dropout(0.1))"
      ],
      "metadata": {
        "id": "1EGgGCN6DKTH"
      },
      "execution_count": null,
      "outputs": []
    },
    {
      "cell_type": "code",
      "source": [
        "pred.add(Dense(32,activation='relu'))\n",
        "pred.add(Dropout(0.2))\n",
        "pred.add(Dense(32,activation='relu'))\n",
        "pred.add(Dropout(0.2))\n",
        "pred.add(Dense(10,activation='softmax'))"
      ],
      "metadata": {
        "id": "v3WRJVzrDLUr"
      },
      "execution_count": 59,
      "outputs": []
    },
    {
      "cell_type": "code",
      "source": [
        "opt = tf.keras.optimizers.Adam(lr=0.001, decay=1e-6)"
      ],
      "metadata": {
        "colab": {
          "base_uri": "https://localhost:8080/"
        },
        "id": "CdUaU6d7DLwk",
        "outputId": "b1d7e9b8-d257-48ae-8822-98a017af887f"
      },
      "execution_count": 61,
      "outputs": [
        {
          "output_type": "stream",
          "name": "stderr",
          "text": [
            "/usr/local/lib/python3.7/dist-packages/keras/optimizer_v2/adam.py:105: UserWarning: The `lr` argument is deprecated, use `learning_rate` instead.\n",
            "  super(Adam, self).__init__(name, **kwargs)\n"
          ]
        }
      ]
    },
    {
      "cell_type": "code",
      "source": [
        "pred.compile(\n",
        "    loss='sparse_categorical_crossentropy',\n",
        "    optimizer=opt,\n",
        "    metrics=['accuracy'],\n",
        ")\n",
        "#prediction model"
      ],
      "metadata": {
        "id": "hepmpoapDMJq"
      },
      "execution_count": 63,
      "outputs": []
    },
    {
      "cell_type": "code",
      "source": [
        "pred.fit(x_train,\n",
        "          y_train,\n",
        "          epochs=3,\n",
        "          validation_data=(x_test, y_test))"
      ],
      "metadata": {
        "colab": {
          "base_uri": "https://localhost:8080/"
        },
        "id": "s9JeLfQlDM2B",
        "outputId": "9a7c3e16-ce53-47a4-eaf8-12ad6b599dc7"
      },
      "execution_count": 64,
      "outputs": [
        {
          "output_type": "stream",
          "name": "stdout",
          "text": [
            "Epoch 1/3\n",
            "1875/1875 [==============================] - 137s 72ms/step - loss: 0.8666 - accuracy: 0.7301 - val_loss: 0.1780 - val_accuracy: 0.9497\n",
            "Epoch 2/3\n",
            "1875/1875 [==============================] - 133s 71ms/step - loss: 0.2200 - accuracy: 0.9427 - val_loss: 0.1668 - val_accuracy: 0.9540\n",
            "Epoch 3/3\n",
            "1875/1875 [==============================] - 131s 70ms/step - loss: 0.1474 - accuracy: 0.9629 - val_loss: 0.0786 - val_accuracy: 0.9780\n"
          ]
        },
        {
          "output_type": "execute_result",
          "data": {
            "text/plain": [
              "<keras.callbacks.History at 0x7f8a3f3ddd50>"
            ]
          },
          "metadata": {},
          "execution_count": 64
        }
      ]
    }
  ]
}